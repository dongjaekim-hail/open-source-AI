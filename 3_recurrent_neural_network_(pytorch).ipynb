{
 "cells": [
  {
   "cell_type": "markdown",
   "metadata": {
    "id": "I0bPF3xaqCZl"
   },
   "source": [
    "# RNN 모델의 작동 방식"
   ]
  },
  {
   "cell_type": "markdown",
   "metadata": {
    "id": "CTkw_xU6qCZs"
   },
   "source": [
    "## RNN"
   ]
  },
  {
   "cell_type": "code",
   "execution_count": 22,
   "metadata": {
    "colab": {
     "base_uri": "https://localhost:8080/"
    },
    "executionInfo": {
     "elapsed": 5511,
     "status": "ok",
     "timestamp": 1689610919350,
     "user": {
      "displayName": "김동재[인공지능융합학과]",
      "userId": "07970455560125973856"
     },
     "user_tz": -540
    },
    "id": "L_gko5dYqCZt",
    "outputId": "2075c48b-5dd9-42e5-fccd-faceeaa90f67",
    "ExecuteTime": {
     "start_time": "2023-11-23T01:52:16.514989Z",
     "end_time": "2023-11-23T01:52:16.558311Z"
    }
   },
   "outputs": [
    {
     "name": "stdout",
     "output_type": "stream",
     "text": [
      "RNN output shape: torch.Size([1, 200, 20])\n",
      "RNN hn shape: torch.Size([1, 1, 20])\n"
     ]
    }
   ],
   "source": [
    "import torch\n",
    "from torch import nn\n",
    "\n",
    "# RNN 정의\n",
    "rnn = nn.RNN(input_size=10, hidden_size=20, batch_first=True)\n",
    "\n",
    "# 임의의 입력\n",
    "x = torch.randn(1, 200, 10)  # 배치 크기: 1, 시퀀스 길이: 200, 입력 차원: 10\n",
    "# t_1..t_200까지 순차적으로 10차원의 데이터가 들어가도록 만들겠다는 뜻.\n",
    "\n",
    "# 모델 실행\n",
    "output, hn = rnn(x)\n",
    "# output은 모든 time 에서 나오는 모든 h들을 모아놓은 것\n",
    "# hn은 200번에 해당하는 모든 데이터 포인트들을 다 지나간다음에 나오는 녀석\n",
    "\n",
    "print(f\"RNN output shape: {output.shape}\")\n",
    "print(f\"RNN hn shape: {hn.shape}\")\n"
   ]
  },
  {
   "cell_type": "markdown",
   "metadata": {
    "id": "zjIa47w1qCZv"
   },
   "source": [
    "## LSTM"
   ]
  },
  {
   "cell_type": "code",
   "execution_count": 23,
   "metadata": {
    "colab": {
     "base_uri": "https://localhost:8080/"
    },
    "executionInfo": {
     "elapsed": 6,
     "status": "ok",
     "timestamp": 1689610919351,
     "user": {
      "displayName": "김동재[인공지능융합학과]",
      "userId": "07970455560125973856"
     },
     "user_tz": -540
    },
    "id": "i8_fv-7XqCZx",
    "outputId": "e6a28da1-0cf4-4655-f4a9-59152f1a4125",
    "ExecuteTime": {
     "start_time": "2023-11-23T01:52:16.557785Z",
     "end_time": "2023-11-23T01:52:16.571699Z"
    }
   },
   "outputs": [
    {
     "name": "stdout",
     "output_type": "stream",
     "text": [
      "LSTM output shape: torch.Size([1, 200, 20])\n",
      "LSTM hn shape: torch.Size([1, 1, 20])\n",
      "LSTM cn shape: torch.Size([1, 1, 20])\n"
     ]
    }
   ],
   "source": [
    "# LSTM 정의\n",
    "lstm = nn.LSTM(input_size=10, hidden_size=20, batch_first=True)\n",
    "\n",
    "# 임의의 입력\n",
    "x = torch.randn(1, 200, 10)  # 배치 크기: 1, 시퀀스 길이: 3, 입력 차원: 10\n",
    "# t_1..t_200까지 순차적으로 10차원의 데이터가 들어가도록 만들겠다는 뜻.\n",
    "\n",
    "# 모델 실행\n",
    "output, (hn, cn) = lstm(x)\n",
    "# 마찬가지로 output은 모든 time 에서 나오는 모든 h들을 모아놓은 것\n",
    "# LSTM의 경우는 hidden state 에 더해서 channel state 도 있음에 유의\n",
    "\n",
    "print(f\"LSTM output shape: {output.shape}\")\n",
    "print(f\"LSTM hn shape: {hn.shape}\")\n",
    "print(f\"LSTM cn shape: {cn.shape}\")\n"
   ]
  },
  {
   "cell_type": "markdown",
   "metadata": {
    "id": "LGj8nWPAqCaA"
   },
   "source": [
    "## 일반적인 모델의 형태"
   ]
  },
  {
   "cell_type": "code",
   "execution_count": 24,
   "metadata": {
    "id": "9SChH_8eqCaA",
    "ExecuteTime": {
     "start_time": "2023-11-23T01:52:16.573973Z",
     "end_time": "2023-11-23T01:52:16.576268Z"
    }
   },
   "outputs": [],
   "source": [
    "class Model(nn.Module):\n",
    "    def __init__(self, input_size, hid_size, output_size):\n",
    "        super(Model, self).__init__()\n",
    "        self.LSTM = nn.LSTM(input_size = input_size, hidden_size = hid_size, num_layers=2,\n",
    "                            batch_first=True)\n",
    "        self.fc1 = nn.Linear(self.hid_size, self.hid_size)\n",
    "        self.fc2 = nn.Linear(self.hid_size, output_size)\n",
    "\n",
    "    def forward(self, x):\n",
    "        \"\"\"\n",
    "        input : [bs, maxlen]\n",
    "        output: [bs, 2]\n",
    "        \"\"\"\n",
    "        x, (h,c) = self.LSTM(x)  # [bs, ml, hid_size]\n",
    "        x = F.relu(self.fc1(x[:,-1,:]))   # [bs, ml, hid_size]\n",
    "        # x = F.relu(self.fc1(h))   # [bs, ml, hid_size]\n",
    "        out = self.fc2(x)\n",
    "        return out  # [bs, output_size]"
   ]
  },
  {
   "cell_type": "markdown",
   "metadata": {
    "id": "1HwkZCZTqCaB"
   },
   "source": [
    "# RNN모델을 통한 주가 예측 (regression)"
   ]
  },
  {
   "cell_type": "code",
   "execution_count": 25,
   "metadata": {
    "colab": {
     "base_uri": "https://localhost:8080/"
    },
    "executionInfo": {
     "elapsed": 4156,
     "status": "ok",
     "timestamp": 1689647918045,
     "user": {
      "displayName": "김동재[인공지능융합학과]",
      "userId": "07970455560125973856"
     },
     "user_tz": -540
    },
    "id": "neAWq9Q-qCaB",
    "outputId": "0e881c81-dda5-4470-e5ce-0ca5198958e0",
    "ExecuteTime": {
     "start_time": "2023-11-23T01:52:16.578972Z",
     "end_time": "2023-11-23T01:52:18.518445Z"
    }
   },
   "outputs": [
    {
     "name": "stdout",
     "output_type": "stream",
     "text": [
      "Requirement already satisfied: yfinance in /Users/dongjaekim/opt/anaconda3/envs/open-source-AI/lib/python3.8/site-packages (0.2.32)\r\n",
      "Requirement already satisfied: scikit-learn in /Users/dongjaekim/opt/anaconda3/envs/open-source-AI/lib/python3.8/site-packages (1.3.2)\r\n",
      "Requirement already satisfied: matplotlib in /Users/dongjaekim/opt/anaconda3/envs/open-source-AI/lib/python3.8/site-packages (3.7.4)\r\n",
      "Requirement already satisfied: pandas>=1.3.0 in /Users/dongjaekim/opt/anaconda3/envs/open-source-AI/lib/python3.8/site-packages (from yfinance) (2.0.3)\r\n",
      "Requirement already satisfied: numpy>=1.16.5 in /Users/dongjaekim/opt/anaconda3/envs/open-source-AI/lib/python3.8/site-packages (from yfinance) (1.24.4)\r\n",
      "Requirement already satisfied: requests>=2.31 in /Users/dongjaekim/opt/anaconda3/envs/open-source-AI/lib/python3.8/site-packages (from yfinance) (2.31.0)\r\n",
      "Requirement already satisfied: multitasking>=0.0.7 in /Users/dongjaekim/opt/anaconda3/envs/open-source-AI/lib/python3.8/site-packages (from yfinance) (0.0.11)\r\n",
      "Requirement already satisfied: lxml>=4.9.1 in /Users/dongjaekim/opt/anaconda3/envs/open-source-AI/lib/python3.8/site-packages (from yfinance) (4.9.3)\r\n",
      "Requirement already satisfied: appdirs>=1.4.4 in /Users/dongjaekim/opt/anaconda3/envs/open-source-AI/lib/python3.8/site-packages (from yfinance) (1.4.4)\r\n",
      "Requirement already satisfied: pytz>=2022.5 in /Users/dongjaekim/opt/anaconda3/envs/open-source-AI/lib/python3.8/site-packages (from yfinance) (2023.3.post1)\r\n",
      "Requirement already satisfied: frozendict>=2.3.4 in /Users/dongjaekim/opt/anaconda3/envs/open-source-AI/lib/python3.8/site-packages (from yfinance) (2.3.8)\r\n",
      "Requirement already satisfied: peewee>=3.16.2 in /Users/dongjaekim/opt/anaconda3/envs/open-source-AI/lib/python3.8/site-packages (from yfinance) (3.17.0)\r\n",
      "Requirement already satisfied: beautifulsoup4>=4.11.1 in /Users/dongjaekim/opt/anaconda3/envs/open-source-AI/lib/python3.8/site-packages (from yfinance) (4.12.2)\r\n",
      "Requirement already satisfied: html5lib>=1.1 in /Users/dongjaekim/opt/anaconda3/envs/open-source-AI/lib/python3.8/site-packages (from yfinance) (1.1)\r\n",
      "Requirement already satisfied: scipy>=1.5.0 in /Users/dongjaekim/opt/anaconda3/envs/open-source-AI/lib/python3.8/site-packages (from scikit-learn) (1.10.1)\r\n",
      "Requirement already satisfied: joblib>=1.1.1 in /Users/dongjaekim/opt/anaconda3/envs/open-source-AI/lib/python3.8/site-packages (from scikit-learn) (1.3.2)\r\n",
      "Requirement already satisfied: threadpoolctl>=2.0.0 in /Users/dongjaekim/opt/anaconda3/envs/open-source-AI/lib/python3.8/site-packages (from scikit-learn) (3.2.0)\r\n",
      "Requirement already satisfied: contourpy>=1.0.1 in /Users/dongjaekim/opt/anaconda3/envs/open-source-AI/lib/python3.8/site-packages (from matplotlib) (1.1.1)\r\n",
      "Requirement already satisfied: cycler>=0.10 in /Users/dongjaekim/opt/anaconda3/envs/open-source-AI/lib/python3.8/site-packages (from matplotlib) (0.12.1)\r\n",
      "Requirement already satisfied: fonttools>=4.22.0 in /Users/dongjaekim/opt/anaconda3/envs/open-source-AI/lib/python3.8/site-packages (from matplotlib) (4.45.0)\r\n",
      "Requirement already satisfied: kiwisolver>=1.0.1 in /Users/dongjaekim/opt/anaconda3/envs/open-source-AI/lib/python3.8/site-packages (from matplotlib) (1.4.5)\r\n",
      "Requirement already satisfied: packaging>=20.0 in /Users/dongjaekim/opt/anaconda3/envs/open-source-AI/lib/python3.8/site-packages (from matplotlib) (23.2)\r\n",
      "Requirement already satisfied: pillow>=6.2.0 in /Users/dongjaekim/opt/anaconda3/envs/open-source-AI/lib/python3.8/site-packages (from matplotlib) (10.1.0)\r\n",
      "Requirement already satisfied: pyparsing>=2.3.1 in /Users/dongjaekim/opt/anaconda3/envs/open-source-AI/lib/python3.8/site-packages (from matplotlib) (3.1.1)\r\n",
      "Requirement already satisfied: python-dateutil>=2.7 in /Users/dongjaekim/opt/anaconda3/envs/open-source-AI/lib/python3.8/site-packages (from matplotlib) (2.8.2)\r\n",
      "Requirement already satisfied: importlib-resources>=3.2.0 in /Users/dongjaekim/opt/anaconda3/envs/open-source-AI/lib/python3.8/site-packages (from matplotlib) (6.1.0)\r\n",
      "Requirement already satisfied: soupsieve>1.2 in /Users/dongjaekim/opt/anaconda3/envs/open-source-AI/lib/python3.8/site-packages (from beautifulsoup4>=4.11.1->yfinance) (2.5)\r\n",
      "Requirement already satisfied: six>=1.9 in /Users/dongjaekim/opt/anaconda3/envs/open-source-AI/lib/python3.8/site-packages (from html5lib>=1.1->yfinance) (1.16.0)\r\n",
      "Requirement already satisfied: webencodings in /Users/dongjaekim/opt/anaconda3/envs/open-source-AI/lib/python3.8/site-packages (from html5lib>=1.1->yfinance) (0.5.1)\r\n",
      "Requirement already satisfied: zipp>=3.1.0 in /Users/dongjaekim/opt/anaconda3/envs/open-source-AI/lib/python3.8/site-packages (from importlib-resources>=3.2.0->matplotlib) (3.17.0)\r\n",
      "Requirement already satisfied: tzdata>=2022.1 in /Users/dongjaekim/opt/anaconda3/envs/open-source-AI/lib/python3.8/site-packages (from pandas>=1.3.0->yfinance) (2023.3)\r\n",
      "Requirement already satisfied: charset-normalizer<4,>=2 in /Users/dongjaekim/opt/anaconda3/envs/open-source-AI/lib/python3.8/site-packages (from requests>=2.31->yfinance) (3.3.2)\r\n",
      "Requirement already satisfied: idna<4,>=2.5 in /Users/dongjaekim/opt/anaconda3/envs/open-source-AI/lib/python3.8/site-packages (from requests>=2.31->yfinance) (3.4)\r\n",
      "Requirement already satisfied: urllib3<3,>=1.21.1 in /Users/dongjaekim/opt/anaconda3/envs/open-source-AI/lib/python3.8/site-packages (from requests>=2.31->yfinance) (2.0.7)\r\n",
      "Requirement already satisfied: certifi>=2017.4.17 in /Users/dongjaekim/opt/anaconda3/envs/open-source-AI/lib/python3.8/site-packages (from requests>=2.31->yfinance) (2023.7.22)\r\n"
     ]
    }
   ],
   "source": [
    "!pip install yfinance scikit-learn matplotlib"
   ]
  },
  {
   "cell_type": "code",
   "execution_count": 26,
   "outputs": [
    {
     "data": {
      "text/plain": "torch.Size([1855, 2000, 1])"
     },
     "execution_count": 26,
     "metadata": {},
     "output_type": "execute_result"
    }
   ],
   "source": [
    "train_x.shape"
   ],
   "metadata": {
    "collapsed": false,
    "ExecuteTime": {
     "start_time": "2023-11-23T01:52:18.520887Z",
     "end_time": "2023-11-23T01:52:18.523619Z"
    }
   }
  },
  {
   "cell_type": "code",
   "execution_count": 50,
   "metadata": {
    "ExecuteTime": {
     "start_time": "2023-11-23T02:09:32.837716Z",
     "end_time": "2023-11-23T02:12:57.426100Z"
    },
    "colab": {
     "base_uri": "https://localhost:8080/"
    },
    "id": "GFs8EXZPqCaB",
    "outputId": "24b6c4a3-81c9-4e08-ebf2-b3167d4a6c99",
    "scrolled": true
   },
   "outputs": [
    {
     "name": "stdout",
     "output_type": "stream",
     "text": [
      "[*********************100%%**********************]  1 of 1 completed\n",
      "Epoch  0 MSE:  0.010472548194229603\n",
      "Epoch  0 MSE:  27.530778884887695\n",
      "Epoch  0 MSE:  1.6431307792663574\n",
      "Epoch  0 MSE:  5.035581588745117\n",
      "Epoch  0 MSE:  13.854544639587402\n",
      "Epoch  0 MSE:  11.380188941955566\n",
      "Epoch  0 MSE:  4.639267444610596\n",
      "Epoch  0 MSE:  0.3706190586090088\n",
      "Epoch  0 MSE:  0.7339215874671936\n",
      "Epoch  0 MSE:  3.477562665939331\n",
      "Epoch  0 MSE:  5.404728889465332\n",
      "Epoch  0 MSE:  5.057440280914307\n",
      "Epoch  0 MSE:  3.1536285877227783\n",
      "Epoch  0 MSE:  1.129948616027832\n",
      "Epoch  0 MSE:  0.09704949706792831\n",
      "Epoch  0 MSE:  0.2007674276828766\n",
      "Epoch  0 MSE:  1.044356107711792\n",
      "Epoch  0 MSE:  1.8265914916992188\n",
      "Epoch  0 MSE:  2.1248676776885986\n",
      "Epoch  0 MSE:  1.7837072610855103\n",
      "Epoch  0 MSE:  1.1234869956970215\n",
      "Epoch  0 MSE:  0.4224444329738617\n",
      "Epoch  0 MSE:  0.05235416814684868\n",
      "Epoch  0 MSE:  0.06004144996404648\n",
      "Epoch  0 MSE:  0.3328062891960144\n",
      "Epoch  0 MSE:  0.6714120507240295\n",
      "Epoch  0 MSE:  0.8511731028556824\n",
      "Epoch  0 MSE:  0.808899998664856\n",
      "Epoch  0 MSE:  0.5632692575454712\n",
      "Epoch  0 MSE:  0.28809797763824463\n",
      "Epoch  0 MSE:  0.0696866512298584\n",
      "Epoch  0 MSE:  0.005943465046584606\n",
      "Epoch  0 MSE:  0.07935341447591782\n",
      "Epoch  0 MSE:  0.20264381170272827\n",
      "Epoch  0 MSE:  0.3230675458908081\n",
      "Epoch  0 MSE:  0.3595640957355499\n",
      "Epoch  0 MSE:  0.3008142113685608\n",
      "Epoch  0 MSE:  0.18070289492607117\n",
      "Epoch  0 MSE:  0.07053446024656296\n",
      "Epoch  0 MSE:  0.012222246266901493\n",
      "Epoch  0 MSE:  0.010532774962484837\n",
      "Epoch  0 MSE:  0.0546187125146389\n",
      "Epoch  0 MSE:  0.12177326530218124\n",
      "Epoch  0 MSE:  0.14606526494026184\n",
      "Epoch  0 MSE:  0.14694085717201233\n",
      "Epoch  0 MSE:  0.10549785941839218\n",
      "Epoch  0 MSE:  0.0504426471889019\n",
      "Epoch  0 MSE:  0.013821366243064404\n",
      "Epoch  0 MSE:  0.0031561916694045067\n",
      "Epoch  0 MSE:  0.018740065395832062\n",
      "Epoch  0 MSE:  0.03931741788983345\n",
      "Epoch  0 MSE:  0.061787500977516174\n",
      "Epoch  0 MSE:  0.06573748588562012\n",
      "Epoch  0 MSE:  0.05114511400461197\n",
      "Epoch  0 MSE:  0.027731390669941902\n",
      "Epoch  0 MSE:  0.009195666760206223\n",
      "Epoch  0 MSE:  0.0023650203365832567\n",
      "Epoch  0 MSE:  0.006314996164292097\n",
      "Test Epoch  0 MSE:  0.08126026391983032\n",
      "Epoch  1 MSE:  0.017281338572502136\n",
      "Epoch  1 MSE:  0.024542083963751793\n",
      "Epoch  1 MSE:  0.03022885136306286\n",
      "Epoch  1 MSE:  0.023395821452140808\n",
      "Epoch  1 MSE:  0.015049178153276443\n",
      "Epoch  1 MSE:  0.004249757621437311\n",
      "Epoch  1 MSE:  0.0014101715059950948\n",
      "Epoch  1 MSE:  0.003184223547577858\n",
      "Epoch  1 MSE:  0.006477253511548042\n",
      "Epoch  1 MSE:  0.012859591282904148\n",
      "Epoch  1 MSE:  0.014437291771173477\n",
      "Epoch  1 MSE:  0.013074040412902832\n",
      "Epoch  1 MSE:  0.006508523132652044\n",
      "Epoch  1 MSE:  0.0023321437183767557\n",
      "Epoch  1 MSE:  0.0017682937905192375\n",
      "Epoch  1 MSE:  0.0022285461891442537\n",
      "Epoch  1 MSE:  0.005200766492635012\n",
      "Epoch  1 MSE:  0.008689806796610355\n",
      "Epoch  1 MSE:  0.0074474988505244255\n",
      "Epoch  1 MSE:  0.0057983361184597015\n",
      "Epoch  1 MSE:  0.0028764577582478523\n",
      "Epoch  1 MSE:  0.0019665283616632223\n",
      "Epoch  1 MSE:  0.0016243999125435948\n",
      "Epoch  1 MSE:  0.0027354294434189796\n",
      "Epoch  1 MSE:  0.0032421466894447803\n",
      "Epoch  1 MSE:  0.004490050021559\n",
      "Epoch  1 MSE:  0.002180109964683652\n",
      "Epoch  1 MSE:  0.002769837388768792\n",
      "Epoch  1 MSE:  0.0011747748358175159\n",
      "Epoch  1 MSE:  0.000989494496025145\n",
      "Epoch  1 MSE:  0.0019384865881875157\n",
      "Epoch  1 MSE:  0.002283715642988682\n",
      "Epoch  1 MSE:  0.002838233020156622\n",
      "Epoch  1 MSE:  0.0022684417199343443\n",
      "Epoch  1 MSE:  0.0017787773394957185\n",
      "Epoch  1 MSE:  0.0015135456342250109\n",
      "Epoch  1 MSE:  0.0015613422729074955\n",
      "Epoch  1 MSE:  0.0012692430755123496\n",
      "Epoch  1 MSE:  0.0022665441501885653\n",
      "Epoch  1 MSE:  0.0012864576419815421\n",
      "Epoch  1 MSE:  0.0020755783189088106\n",
      "Epoch  1 MSE:  0.0013912069844081998\n",
      "Epoch  1 MSE:  0.00115806027315557\n",
      "Epoch  1 MSE:  0.0013583929976448417\n",
      "Epoch  1 MSE:  0.0017400308279320598\n",
      "Epoch  1 MSE:  0.0013748278142884374\n",
      "Epoch  1 MSE:  0.0011318463366478682\n",
      "Epoch  1 MSE:  0.0011168814962729812\n",
      "Epoch  1 MSE:  0.0012412476353347301\n",
      "Epoch  1 MSE:  0.0009137266897596419\n",
      "Epoch  1 MSE:  0.0011296345619484782\n",
      "Epoch  1 MSE:  0.0011438007932156324\n",
      "Epoch  1 MSE:  0.0008617262355983257\n",
      "Epoch  1 MSE:  0.0011064799036830664\n",
      "Epoch  1 MSE:  0.0016469809925183654\n",
      "Epoch  1 MSE:  0.0011197301791980863\n",
      "Epoch  1 MSE:  0.0011569320922717452\n",
      "Epoch  1 MSE:  0.0011544331209734082\n",
      "Test Epoch  1 MSE:  0.10267890989780426\n",
      "Epoch  2 MSE:  0.0009851418435573578\n",
      "Epoch  2 MSE:  0.0008123703300952911\n",
      "Epoch  2 MSE:  0.0013172292383387685\n",
      "Epoch  2 MSE:  0.0009634865564294159\n",
      "Epoch  2 MSE:  0.0012014023959636688\n",
      "Epoch  2 MSE:  0.0009535863064229488\n",
      "Epoch  2 MSE:  0.0007442214991897345\n",
      "Epoch  2 MSE:  0.0006826320313848555\n",
      "Epoch  2 MSE:  0.0010084290988743305\n",
      "Epoch  2 MSE:  0.0012706747511401772\n",
      "Epoch  2 MSE:  0.0009499758598394692\n",
      "Epoch  2 MSE:  0.0009246678091585636\n",
      "Epoch  2 MSE:  0.00116735917981714\n",
      "Epoch  2 MSE:  0.001142965629696846\n",
      "Epoch  2 MSE:  0.000855045102071017\n",
      "Epoch  2 MSE:  0.0006374705699272454\n",
      "Epoch  2 MSE:  0.0009921123273670673\n",
      "Epoch  2 MSE:  0.0006729063461534679\n",
      "Epoch  2 MSE:  0.0010969399008899927\n",
      "Epoch  2 MSE:  0.0010148658184334636\n",
      "Epoch  2 MSE:  0.0009201879147440195\n",
      "Epoch  2 MSE:  0.0007834288408048451\n",
      "Epoch  2 MSE:  0.000840562570374459\n",
      "Epoch  2 MSE:  0.0008747857646085322\n",
      "Epoch  2 MSE:  0.0008765115635469556\n",
      "Epoch  2 MSE:  0.0008784556994214654\n",
      "Epoch  2 MSE:  0.0012372873025014997\n",
      "Epoch  2 MSE:  0.0010153312468901277\n",
      "Epoch  2 MSE:  0.000736518413759768\n",
      "Epoch  2 MSE:  0.0008921345579437912\n",
      "Epoch  2 MSE:  0.0007527127163484693\n",
      "Epoch  2 MSE:  0.000886955123860389\n",
      "Epoch  2 MSE:  0.0008385367691516876\n",
      "Epoch  2 MSE:  0.0007727837655693293\n",
      "Epoch  2 MSE:  0.0009755606879480183\n",
      "Epoch  2 MSE:  0.0006477162824012339\n",
      "Epoch  2 MSE:  0.000766386860050261\n",
      "Epoch  2 MSE:  0.0007283454178832471\n",
      "Epoch  2 MSE:  0.0008634797995910048\n",
      "Epoch  2 MSE:  0.0008450791938230395\n",
      "Epoch  2 MSE:  0.0009619000484235585\n",
      "Epoch  2 MSE:  0.0010553461033850908\n",
      "Epoch  2 MSE:  0.0008632726385258138\n",
      "Epoch  2 MSE:  0.0008534725639037788\n",
      "Epoch  2 MSE:  0.0009473089594393969\n",
      "Epoch  2 MSE:  0.0008831221493892372\n",
      "Epoch  2 MSE:  0.0006976978620514274\n",
      "Epoch  2 MSE:  0.0006026547634974122\n",
      "Epoch  2 MSE:  0.0006720179226249456\n",
      "Epoch  2 MSE:  0.0007685449090786278\n",
      "Epoch  2 MSE:  0.0008059780229814351\n",
      "Epoch  2 MSE:  0.0007033559959381819\n",
      "Epoch  2 MSE:  0.0009487784118391573\n",
      "Epoch  2 MSE:  0.0008985636522993445\n",
      "Epoch  2 MSE:  0.000803097733296454\n",
      "Epoch  2 MSE:  0.0007964132819324732\n",
      "Epoch  2 MSE:  0.00064432731596753\n",
      "Epoch  2 MSE:  0.0009641788201406598\n",
      "Test Epoch  2 MSE:  0.07182376086711884\n",
      "Epoch  3 MSE:  0.0007760433363728225\n",
      "Epoch  3 MSE:  0.00063187355408445\n",
      "Epoch  3 MSE:  0.000529782148078084\n",
      "Epoch  3 MSE:  0.000761691015213728\n",
      "Epoch  3 MSE:  0.0006734086782671511\n",
      "Epoch  3 MSE:  0.0006392303039319813\n",
      "Epoch  3 MSE:  0.0006452649831771851\n",
      "Epoch  3 MSE:  0.0005047689191997051\n",
      "Epoch  3 MSE:  0.0007377114961855114\n",
      "Epoch  3 MSE:  0.0005272385897114873\n",
      "Epoch  3 MSE:  0.000727918348275125\n",
      "Epoch  3 MSE:  0.0005697314045391977\n",
      "Epoch  3 MSE:  0.0006421786383725703\n",
      "Epoch  3 MSE:  0.0006658700294792652\n",
      "Epoch  3 MSE:  0.0006656685727648437\n",
      "Epoch  3 MSE:  0.0007961528608575463\n",
      "Epoch  3 MSE:  0.0005231502000242472\n",
      "Epoch  3 MSE:  0.0006468177307397127\n",
      "Epoch  3 MSE:  0.0007620461983606219\n",
      "Epoch  3 MSE:  0.0007834557327441871\n",
      "Epoch  3 MSE:  0.0004769183578900993\n",
      "Epoch  3 MSE:  0.0006406004540622234\n",
      "Epoch  3 MSE:  0.0004332431126385927\n",
      "Epoch  3 MSE:  0.0005478168604895473\n",
      "Epoch  3 MSE:  0.0006991081172600389\n",
      "Epoch  3 MSE:  0.0005573403323069215\n",
      "Epoch  3 MSE:  0.0005742234061472118\n",
      "Epoch  3 MSE:  0.0004403979401104152\n",
      "Epoch  3 MSE:  0.0005239612073637545\n",
      "Epoch  3 MSE:  0.0005326730897650123\n",
      "Epoch  3 MSE:  0.0007342945318669081\n",
      "Epoch  3 MSE:  0.0006042305030860007\n",
      "Epoch  3 MSE:  0.0005351126310415566\n",
      "Epoch  3 MSE:  0.0005541056161746383\n",
      "Epoch  3 MSE:  0.0005801180377602577\n",
      "Epoch  3 MSE:  0.0005873785121366382\n",
      "Epoch  3 MSE:  0.00048348333803005517\n",
      "Epoch  3 MSE:  0.0005534181254915893\n",
      "Epoch  3 MSE:  0.0006526506040245295\n",
      "Epoch  3 MSE:  0.0005106746684759855\n",
      "Epoch  3 MSE:  0.0006145413499325514\n",
      "Epoch  3 MSE:  0.0005969224730506539\n",
      "Epoch  3 MSE:  0.000490537378937006\n",
      "Epoch  3 MSE:  0.0005444215494208038\n",
      "Epoch  3 MSE:  0.0005781545769423246\n",
      "Epoch  3 MSE:  0.0005305210943333805\n",
      "Epoch  3 MSE:  0.0006458096904680133\n",
      "Epoch  3 MSE:  0.0004860390617977828\n",
      "Epoch  3 MSE:  0.0005751942517235875\n",
      "Epoch  3 MSE:  0.0004978755605407059\n",
      "Epoch  3 MSE:  0.00047448035911656916\n",
      "Epoch  3 MSE:  0.0004668510227929801\n",
      "Epoch  3 MSE:  0.00062317936681211\n",
      "Epoch  3 MSE:  0.0005418435321189463\n",
      "Epoch  3 MSE:  0.00042124855099245906\n",
      "Epoch  3 MSE:  0.0004303108435124159\n",
      "Epoch  3 MSE:  0.0005644676857627928\n",
      "Epoch  3 MSE:  0.0003942586772609502\n",
      "Test Epoch  3 MSE:  0.04934212565422058\n",
      "Epoch  4 MSE:  0.0005765234818682075\n",
      "Epoch  4 MSE:  0.00042871839832514524\n",
      "Epoch  4 MSE:  0.00047806260408833623\n",
      "Epoch  4 MSE:  0.0005626878701150417\n",
      "Epoch  4 MSE:  0.00042809962178580463\n",
      "Epoch  4 MSE:  0.0005401364178396761\n",
      "Epoch  4 MSE:  0.0003801979764830321\n",
      "Epoch  4 MSE:  0.0003876506525557488\n",
      "Epoch  4 MSE:  0.0005172425298951566\n",
      "Epoch  4 MSE:  0.0005485920701175928\n",
      "Epoch  4 MSE:  0.00044699947466142476\n",
      "Epoch  4 MSE:  0.00048200131277553737\n",
      "Epoch  4 MSE:  0.0005002355319447815\n",
      "Epoch  4 MSE:  0.0004316202539484948\n",
      "Epoch  4 MSE:  0.0004538969660643488\n",
      "Epoch  4 MSE:  0.0005492242053151131\n",
      "Epoch  4 MSE:  0.000548822688870132\n",
      "Epoch  4 MSE:  0.0004190300533082336\n",
      "Epoch  4 MSE:  0.0003621161449700594\n",
      "Epoch  4 MSE:  0.0004509591672103852\n",
      "Epoch  4 MSE:  0.00044263392919674516\n",
      "Epoch  4 MSE:  0.00042145742918364704\n",
      "Epoch  4 MSE:  0.0003002083394676447\n",
      "Epoch  4 MSE:  0.00036272458964958787\n",
      "Epoch  4 MSE:  0.00036044802982360125\n",
      "Epoch  4 MSE:  0.00030451829661615193\n",
      "Epoch  4 MSE:  0.0005191804957576096\n",
      "Epoch  4 MSE:  0.00043166865361854434\n",
      "Epoch  4 MSE:  0.0002876928192563355\n",
      "Epoch  4 MSE:  0.0004277109692338854\n",
      "Epoch  4 MSE:  0.0004180339747108519\n",
      "Epoch  4 MSE:  0.0005131883663125336\n",
      "Epoch  4 MSE:  0.0003939775633625686\n",
      "Epoch  4 MSE:  0.00038533922634087503\n",
      "Epoch  4 MSE:  0.00045523623703047633\n",
      "Epoch  4 MSE:  0.0004368279769551009\n",
      "Epoch  4 MSE:  0.00039335383917205036\n",
      "Epoch  4 MSE:  0.0004419467877596617\n",
      "Epoch  4 MSE:  0.00031876700813882053\n",
      "Epoch  4 MSE:  0.00026019333745352924\n",
      "Epoch  4 MSE:  0.00031344700255431235\n",
      "Epoch  4 MSE:  0.00039644420030526817\n",
      "Epoch  4 MSE:  0.00038787757512182\n",
      "Epoch  4 MSE:  0.00035812496207654476\n",
      "Epoch  4 MSE:  0.00036508499761112034\n",
      "Epoch  4 MSE:  0.0003502909967210144\n",
      "Epoch  4 MSE:  0.0003847875341307372\n",
      "Epoch  4 MSE:  0.0003549966204445809\n",
      "Epoch  4 MSE:  0.00044561774120666087\n",
      "Epoch  4 MSE:  0.0002950653724838048\n",
      "Epoch  4 MSE:  0.0003281844547018409\n",
      "Epoch  4 MSE:  0.00029511272441595793\n",
      "Epoch  4 MSE:  0.0003111763799097389\n",
      "Epoch  4 MSE:  0.00035975888022221625\n",
      "Epoch  4 MSE:  0.0004484935197979212\n",
      "Epoch  4 MSE:  0.0003604186058510095\n",
      "Epoch  4 MSE:  0.0003330232575535774\n",
      "Epoch  4 MSE:  0.0003722715482581407\n",
      "Test Epoch  4 MSE:  0.03176610544323921\n"
     ]
    }
   ],
   "source": [
    "import torch\n",
    "import torch.nn as nn\n",
    "import yfinance as yf\n",
    "import numpy as np\n",
    "import matplotlib.pyplot as plt\n",
    "from sklearn.preprocessing import MinMaxScaler\n",
    "\n",
    "# 데이터 불러오기\n",
    "data = yf.download('AAPL', '2000-01-01', '2023-07-01')\n",
    "data = data['Close'].values\n",
    "\n",
    "# 데이터 정규화\n",
    "scaler = MinMaxScaler()\n",
    "data = scaler.fit_transform(data.reshape(-1, 1)).reshape(-1)\n",
    "\n",
    "# 설정값 정의\n",
    "seq_length = 2000\n",
    "pred_length = 200\n",
    "hidden_dim = 50\n",
    "n_features = 1\n",
    "\n",
    "# 학습 데이터 생성\n",
    "def create_sequences(data, seq_length, pred_length):\n",
    "    xs = []\n",
    "    ys = []\n",
    "\n",
    "    for i in range(len(data)-seq_length-pred_length):\n",
    "        x = data[i:(i+seq_length)]\n",
    "        y = data[(i+seq_length):(i+seq_length+pred_length)]\n",
    "        xs.append(x)\n",
    "        ys.append(y)\n",
    "\n",
    "    return np.array(xs), np.array(ys)\n",
    "\n",
    "x, y = create_sequences(data, seq_length, pred_length)\n",
    "x = torch.tensor(x).float().view(-1, seq_length, n_features)\n",
    "y = torch.tensor(y).float()\n",
    "\n",
    "train_x = x[:len(x)//2]\n",
    "test_x = x[len(x)//2:]\n",
    "train_y = y[:len(y)//2]\n",
    "test_y = y[len(y)//2:]\n",
    "\n",
    "# 모델 정의\n",
    "class StockPredictor(nn.Module):\n",
    "    def __init__(self, n_features, hidden_dim, seq_length, pred_length):\n",
    "        super(StockPredictor, self).__init__()\n",
    "        self.n_features = n_features\n",
    "        self.hidden_dim = hidden_dim\n",
    "        self.seq_len = seq_length\n",
    "        self.pred_len = pred_length\n",
    "        self.lstm = nn.LSTM(input_size=n_features, hidden_size=hidden_dim, batch_first=True)\n",
    "        self.linear = nn.Linear(in_features=hidden_dim*self.seq_len, out_features=pred_length)\n",
    "\n",
    "    def forward(self, sequences):\n",
    "        lstm_out, _ = self.lstm(sequences)\n",
    "        # use all of the hidden states for the linear layer\n",
    "        x = lstm_out.contiguous().view(-1, self.hidden_dim*self.seq_len)\n",
    "        y_pred = self.linear(x)\n",
    "        return y_pred\n",
    "\n",
    "model = StockPredictor(n_features, hidden_dim, seq_length, pred_length)\n",
    "criterion = nn.MSELoss()\n",
    "optimizer = torch.optim.Adam(model.parameters(), lr=1e-3)\n",
    "\n",
    "# make a data loader from torch\n",
    "from torch.utils.data import DataLoader, TensorDataset\n",
    "\n",
    "# batch sampling train loader\n",
    "train_data = TensorDataset(train_x, train_y)\n",
    "train_loader = DataLoader(train_data, batch_size=32, shuffle=True)\n",
    "test_data = TensorDataset(test_x, test_y)\n",
    "test_loader = DataLoader(test_data, batch_size=10000, shuffle=False)\n",
    "\n",
    "# training\n",
    "model.train()\n",
    "for epoch in range(5):  # 50번의 epoch 동안 학습\n",
    "    model.train()\n",
    "    # batch sampling\n",
    "    for batch_idx, (train_x, train_y) in enumerate(train_loader):\n",
    "        model.zero_grad()\n",
    "\n",
    "        y_pred = model(train_x)\n",
    "        loss = criterion(y_pred.float(), train_y)\n",
    "        print(\"Epoch \", epoch, \"MSE: \", loss.item())\n",
    "        loss.backward()\n",
    "        optimizer.step()\n",
    "\n",
    "    # evaluate for each epoch\n",
    "    model.eval()\n",
    "    with torch.no_grad():\n",
    "        y_pred = model(test_x)\n",
    "        loss = criterion(y_pred.float(), test_y)\n",
    "        print(\"Test Epoch \", epoch, \"MSE: \", loss.item())\n",
    "\n",
    "\n",
    "\n",
    "# 평가\n",
    "model.eval()\n",
    "test_preds = model(test_x)\n"
   ]
  },
  {
   "cell_type": "code",
   "execution_count": 47,
   "outputs": [
    {
     "data": {
      "text/plain": "torch.Size([31, 2000, 1])"
     },
     "execution_count": 47,
     "metadata": {},
     "output_type": "execute_result"
    }
   ],
   "source": [
    "train_x.shape"
   ],
   "metadata": {
    "collapsed": false,
    "ExecuteTime": {
     "start_time": "2023-11-23T02:08:21.370471Z",
     "end_time": "2023-11-23T02:08:21.377754Z"
    }
   }
  },
  {
   "cell_type": "code",
   "execution_count": 49,
   "metadata": {
    "colab": {
     "base_uri": "https://localhost:8080/",
     "height": 241
    },
    "executionInfo": {
     "elapsed": 302,
     "status": "error",
     "timestamp": 1689611218485,
     "user": {
      "displayName": "김동재[인공지능융합학과]",
      "userId": "07970455560125973856"
     },
     "user_tz": -540
    },
    "id": "_rv5zic3qCaC",
    "outputId": "ee7d5150-d0ef-40ef-d00a-f942ecbb6b6b",
    "ExecuteTime": {
     "start_time": "2023-11-23T02:09:14.236438Z",
     "end_time": "2023-11-23T02:09:14.451428Z"
    }
   },
   "outputs": [
    {
     "data": {
      "text/plain": "<matplotlib.legend.Legend at 0x7f99fb249c70>"
     },
     "execution_count": 49,
     "metadata": {},
     "output_type": "execute_result"
    },
    {
     "data": {
      "text/plain": "<Figure size 1600x600 with 1 Axes>",
      "image/png": "[encoded data removed]"
     },
     "metadata": {},
     "output_type": "display_data"
    }
   ],
   "source": [
    "%matplotlib inline\n",
    "\n",
    "plt.figure(figsize=(16,6))\n",
    "\n",
    "range_future = len(test_y)\n",
    "# plot from -2000 to 0\n",
    "plt.plot(np.arange(-seq_length, 0, 1), train_x[0,:].numpy(), label='History')\n",
    "\n",
    "\n",
    "plt.plot(np.arange(200), train_y[0,:].numpy(), label='True Future')\n",
    "plt.plot(np.arange(200), y_pred[0,:].detach().numpy(), label='Predicted Future')\n",
    "\n",
    "plt.title('True Future vs Predicted Future')\n",
    "plt.xlabel('Time Steps')\n",
    "plt.ylabel('Normalized Stock Price')\n",
    "plt.legend()\n"
   ]
  },
  {
   "cell_type": "markdown",
   "metadata": {
    "id": "oWFV5N2PqCaC"
   },
   "source": [
    "# RNN을 이용한 문서의 분류 (classification)"
   ]
  },
  {
   "cell_type": "code",
   "execution_count": null,
   "metadata": {
    "id": "lSPCW3UoqCaC",
    "scrolled": true
   },
   "outputs": [],
   "source": [
    "!pip install tensorflow"
   ]
  },
  {
   "cell_type": "code",
   "execution_count": null,
   "metadata": {
    "id": "T1nN26eqqCaC"
   },
   "outputs": [],
   "source": [
    "from __future__ import unicode_literals, print_function, division\n",
    "from io import open\n",
    "import unicodedata\n",
    "import re\n",
    "import random\n",
    "\n",
    "import torch\n",
    "import torch.nn as nn\n",
    "from torch import optim\n",
    "import torch.nn.functional as F\n",
    "\n",
    "import numpy as np\n",
    "from torch.utils.data import TensorDataset, DataLoader, RandomSampler\n",
    "\n",
    "device = torch.device(\"cuda\" if torch.cuda.is_available() else \"cpu\")"
   ]
  },
  {
   "cell_type": "code",
   "execution_count": null,
   "metadata": {
    "id": "aOM8Ld4SqCaD"
   },
   "outputs": [],
   "source": [
    "SOS_token = 0\n",
    "EOS_token = 1\n",
    "\n",
    "class Lang:\n",
    "    def __init__(self, name):\n",
    "        self.name = name\n",
    "        self.word2index = {}\n",
    "        self.word2count = {}\n",
    "        self.index2word = {0: \"SOS\", 1: \"EOS\"}\n",
    "        self.n_words = 2  # Count SOS and EOS\n",
    "\n",
    "    def addSentence(self, sentence):\n",
    "        for word in sentence.split(' '):\n",
    "            self.addWord(word)\n",
    "\n",
    "    def addWord(self, word):\n",
    "        if word not in self.word2index:\n",
    "            self.word2index[word] = self.n_words\n",
    "            self.word2count[word] = 1\n",
    "            self.index2word[self.n_words] = word\n",
    "            self.n_words += 1\n",
    "        else:\n",
    "            self.word2count[word] += 1"
   ]
  },
  {
   "cell_type": "code",
   "execution_count": null,
   "metadata": {
    "id": "UvXQ25j1qCaD"
   },
   "outputs": [],
   "source": [
    "import torch\n",
    "import torch.nn as nn\n",
    "import torch.optim as optim\n",
    "import torch.nn.functional as F\n",
    "from torch.utils.data import *\n",
    "from tensorflow.keras.preprocessing.sequence import pad_sequences\n",
    "from tensorflow.keras.datasets import imdb"
   ]
  },
  {
   "cell_type": "code",
   "execution_count": null,
   "metadata": {
    "id": "nk37uE9BqCaD"
   },
   "outputs": [],
   "source": [
    "DEVICE = torch.device(\"cuda\" if torch.cuda.is_available() else \"cpu\")\n",
    "\n",
    "(x_train, y_train), (x_test, y_test) = imdb.load_data(num_words=MAX_WORDS)\n",
    "x_train = pad_sequences(x_train, maxlen=MAX_LEN, padding=\"post\", truncating=\"post\")\n",
    "x_test = pad_sequences(x_test, maxlen=MAX_LEN, padding=\"post\", truncating=\"post\")\n",
    "print(x_train.shape, x_test.shape)"
   ]
  },
  {
   "cell_type": "code",
   "execution_count": null,
   "metadata": {
    "id": "hdjqOJgHqCaD"
   },
   "outputs": [],
   "source": [
    "train_data = TensorDataset(torch.LongTensor(x_train), torch.LongTensor(y_train))\n",
    "test_data = TensorDataset(torch.LongTensor(x_test), torch.LongTensor(y_test))\n",
    "\n",
    "train_sampler = RandomSampler(train_data)\n",
    "train_loader = DataLoader(train_data, sampler=train_sampler, batch_size=BATCH_SIZE)\n",
    "\n",
    "test_sampler = SequentialSampler(test_data)\n",
    "test_loader = DataLoader(test_data, sampler=test_sampler, batch_size=BATCH_SIZE)"
   ]
  },
  {
   "cell_type": "code",
   "execution_count": null,
   "metadata": {
    "id": "u1VuOYQiqCaD"
   },
   "outputs": [],
   "source": [
    "class Model(nn.Module):\n",
    "    def __init__(self, max_words, emb_size, hid_size):\n",
    "        super(Model, self).__init__()\n",
    "        self.max_words = max_words\n",
    "        self.emb_size = emb_size\n",
    "        self.hid_size = hid_size\n",
    "        self.Embedding = nn.Embedding(self.max_words, self.emb_size)\n",
    "        self.LSTM = nn.LSTM(self.emb_size, self.hid_size, num_layers=2,\n",
    "                            batch_first=True)\n",
    "        self.fc1 = nn.Linear(self.hid_size, self.hid_size)\n",
    "        self.fc2 = nn.Linear(self.hid_size, 2)\n",
    "\n",
    "    def forward(self, x):\n",
    "        \"\"\"\n",
    "        input : [bs, maxlen]\n",
    "        output: [bs, 2]\n",
    "        \"\"\"\n",
    "        x = self.Embedding(x)  # [bs, ml, emb_size]\n",
    "        x, (h,c) = self.LSTM(x)  # [bs, ml, hid_size]\n",
    "        x = F.relu(self.fc1(x[:,-1,:]))   # [bs, ml, hid_size]\n",
    "        out = self.fc2(x)\n",
    "        return out  # [bs, 2]"
   ]
  },
  {
   "cell_type": "code",
   "execution_count": null,
   "metadata": {
    "id": "8YRpN3_BqCaD"
   },
   "outputs": [],
   "source": [
    "def train(model, device, train_loader, optimizer, epoch):\n",
    "    model.train()\n",
    "    criterion = nn.CrossEntropyLoss()\n",
    "    for batch_idx, (x, y) in enumerate(train_loader):\n",
    "        x, y = x.to(DEVICE), y.to(DEVICE)\n",
    "\n",
    "        optimizer.zero_grad()\n",
    "        y_ = model(x)\n",
    "        loss = criterion(y_, y)  # loss\n",
    "        loss.backward()\n",
    "        optimizer.step()\n",
    "        print('Train Epoch: {} [{}/{} ({:.0f}%)]\\tLoss: {:.6f}'.format(\n",
    "            epoch, batch_idx * len(x), len(train_loader.dataset),\n",
    "            100. * batch_idx / len(train_loader), loss.item()))"
   ]
  },
  {
   "cell_type": "code",
   "execution_count": null,
   "metadata": {
    "id": "PE0B2ZnfqCaD"
   },
   "outputs": [],
   "source": [
    "def test(model, device, test_loader):\n",
    "    model.eval()\n",
    "    criterion = nn.CrossEntropyLoss(reduction='sum')\n",
    "    test_loss = 0.0\n",
    "    acc = 0\n",
    "    for batch_idx, (x, y) in enumerate(test_loader):\n",
    "        x, y = x.to(DEVICE), y.to(DEVICE)\n",
    "        with torch.no_grad():\n",
    "            y_ = model(x)\n",
    "        test_loss += criterion(y_, y)\n",
    "        pred = y_.max(-1, keepdim=True)[1]\n",
    "        acc += pred.eq(y.view_as(pred)).sum().item()\n",
    "    test_loss /= len(test_loader.dataset)\n",
    "    print('\\nTest set: Average loss: {:.4f}, Accuracy: {}/{} ({:.0f}%)'.format(\n",
    "        test_loss, acc, len(test_loader.dataset),\n",
    "        100. * acc / len(test_loader.dataset)))\n",
    "    return acc / len(test_loader.dataset)"
   ]
  },
  {
   "cell_type": "code",
   "execution_count": null,
   "metadata": {
    "id": "Q_pEEvbaqCaD"
   },
   "outputs": [],
   "source": [
    "MAX_WORDS = 10000  # imdb’s vocab_size\n",
    "MAX_LEN = 200      # max length\n",
    "BATCH_SIZE = 256\n",
    "EMB_SIZE = 128   # embedding size\n",
    "HID_SIZE = 128   # lstm hidden size\n",
    "\n",
    "\n",
    "model = Model(MAX_WORDS, EMB_SIZE, HID_SIZE).to(DEVICE)\n",
    "print(model)\n",
    "optimizer = optim.Adam(model.parameters())\n",
    "\n",
    "best_acc = 0.0\n",
    "PATH = 'imdb model/model.pth'  #\n",
    "\n",
    "for epoch in range(10):\n",
    "    train(model, DEVICE, train_loader, optimizer, epoch)\n",
    "    acc = test(model, DEVICE, test_loader)\n",
    "    if best_acc < acc:\n",
    "        best_acc = acc\n",
    "        torch.save(model.state_dict(), PATH)\n",
    "    print(\"acc is: {:.4f}, best acc is {:.4f}\\n\".format(acc, best_acc))"
   ]
  },
  {
   "cell_type": "code",
   "execution_count": null,
   "metadata": {
    "id": "cSjuMtFEqCaD"
   },
   "outputs": [],
   "source": []
  }
 ],
 "metadata": {
  "colab": {
   "provenance": []
  },
  "kernelspec": {
   "display_name": "Python 3 (ipykernel)",
   "language": "python",
   "name": "python3"
  },
  "language_info": {
   "codemirror_mode": {
    "name": "ipython",
    "version": 3
   },
   "file_extension": ".py",
   "mimetype": "text/x-python",
   "name": "python",
   "nbconvert_exporter": "python",
   "pygments_lexer": "ipython3",
   "version": "3.8.17"
  },
  "toc": {
   "base_numbering": 1,
   "nav_menu": {},
   "number_sections": true,
   "sideBar": true,
   "skip_h1_title": false,
   "title_cell": "Table of Contents",
   "title_sidebar": "Contents",
   "toc_cell": false,
   "toc_position": {},
   "toc_section_display": true,
   "toc_window_display": false
  }
 },
 "nbformat": 4,
 "nbformat_minor": 4
}
